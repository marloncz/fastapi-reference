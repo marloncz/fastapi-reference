{
 "cells": [
  {
   "cell_type": "code",
   "execution_count": null,
   "metadata": {},
   "outputs": [],
   "source": [
    "import polars as pl\n",
    "import requests\n",
    "\n",
    "DEV = True\n",
    "base_url = \"http://127.0.0.1:8000\" if DEV else \"https://api.com\""
   ]
  },
  {
   "cell_type": "markdown",
   "metadata": {},
   "source": [
    "## Health Check\n",
    "\n",
    "Simple health check endpoint."
   ]
  },
  {
   "cell_type": "code",
   "execution_count": null,
   "metadata": {},
   "outputs": [],
   "source": [
    "response = requests.get(base_url + \"/health\")\n",
    "response.json()"
   ]
  },
  {
   "cell_type": "markdown",
   "metadata": {},
   "source": [
    "## Receiving Sampled Products\n",
    "\n",
    "This endpoint is used for receiving mock data based on the `generate_mock_data`."
   ]
  },
  {
   "cell_type": "code",
   "execution_count": null,
   "metadata": {},
   "outputs": [],
   "source": [
    "body = {\"sample_size\": 200}\n",
    "response = requests.get(base_url + \"/receive_sample_products\", json=body)\n",
    "json_products = response.json()\n",
    "df = pl.DataFrame(json_products[\"products\"])\n",
    "df"
   ]
  },
  {
   "cell_type": "markdown",
   "metadata": {},
   "source": [
    "## Receiving Products by Product ID\n",
    "\n",
    "Endpoint can be used for receiving products based on the defined `product_ids`. The local data SQLite database is used. \n",
    "\n",
    "**Note**: The script `/src/utils/sql.py` should be executed first."
   ]
  },
  {
   "cell_type": "code",
   "execution_count": null,
   "metadata": {},
   "outputs": [],
   "source": [
    "body = {\"product_ids\": [\"00001\", \"00002\", \"00008\", \"00009\"]}\n",
    "response = requests.get(base_url + \"/receive_products_by_id\", json=body)\n",
    "json_products = response.json()\n",
    "df = pl.DataFrame(json_products[\"products\"])\n",
    "df"
   ]
  },
  {
   "cell_type": "markdown",
   "metadata": {},
   "source": [
    "## Update Existing Products\n",
    "\n",
    "Using the endpoint to update existing products within local SQLite DB."
   ]
  },
  {
   "cell_type": "code",
   "execution_count": null,
   "metadata": {},
   "outputs": [],
   "source": [
    "update = {\n",
    "    \"products\": [\n",
    "        {\n",
    "            # Product ID that does not exist\n",
    "            \"product_id\": \"10001\",\n",
    "            \"product_name\": \"Product Name\",\n",
    "            \"product_description\": \"New Description\",\n",
    "            \"product_category\": \"New Category\",\n",
    "            \"price\": 109.98,\n",
    "            \"stock\": 10,\n",
    "            \"valid_from\": \"2021-01-01\",\n",
    "            \"valid_to\": \"2029-12-31\",\n",
    "        },\n",
    "        {\n",
    "            \"product_id\": \"00002\",\n",
    "            \"product_name\": \"Product Name\",\n",
    "            \"product_description\": \"New Description\",\n",
    "            \"product_category\": \"New Category\",\n",
    "            \"price\": 0.99,\n",
    "            \"stock\": 20,\n",
    "            \"valid_from\": \"2021-01-01\",\n",
    "            \"valid_to\": \"2029-12-31\",\n",
    "        },\n",
    "    ],\n",
    "    \"user_name\": \"User Name\",\n",
    "    \"user_email\": \"user@mail.de\",\n",
    "}\n",
    "response = requests.post(base_url + \"/update_products\", json=update)\n",
    "response.json()"
   ]
  },
  {
   "cell_type": "code",
   "execution_count": null,
   "metadata": {},
   "outputs": [],
   "source": [
    "body = {\"product_ids\": [\"00001\", \"00002\"]}\n",
    "response = requests.get(base_url + \"/receive_products_by_id\", json=body)\n",
    "json_products = response.json()\n",
    "df = pl.DataFrame(json_products[\"products\"])\n",
    "df"
   ]
  }
 ],
 "metadata": {
  "kernelspec": {
   "display_name": ".venv",
   "language": "python",
   "name": "python3"
  },
  "language_info": {
   "codemirror_mode": {
    "name": "ipython",
    "version": 3
   },
   "file_extension": ".py",
   "mimetype": "text/x-python",
   "name": "python",
   "nbconvert_exporter": "python",
   "pygments_lexer": "ipython3",
   "version": "3.11.9"
  }
 },
 "nbformat": 4,
 "nbformat_minor": 2
}
