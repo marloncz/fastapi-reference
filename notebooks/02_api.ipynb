{
 "cells": [
  {
   "cell_type": "code",
   "execution_count": null,
   "metadata": {},
   "outputs": [],
   "source": [
    "import polars as pl\n",
    "import requests\n",
    "\n",
    "DEV = True\n",
    "base_url = \"http://127.0.0.1:8000\" if DEV else \"https://api.com\""
   ]
  },
  {
   "cell_type": "markdown",
   "metadata": {},
   "source": [
    "## Health Check\n",
    "\n",
    "Simple health check endpoint."
   ]
  },
  {
   "cell_type": "code",
   "execution_count": null,
   "metadata": {},
   "outputs": [],
   "source": [
    "response = requests.get(base_url + \"/health\")\n",
    "response.json()"
   ]
  },
  {
   "cell_type": "markdown",
   "metadata": {},
   "source": [
    "## Receiving Sampled Products\n",
    "\n",
    "This endpoint is used for receiving mock data based on the `generate_mock_data`."
   ]
  },
  {
   "cell_type": "code",
   "execution_count": null,
   "metadata": {},
   "outputs": [],
   "source": [
    "body = {\"sample_size\": 200}\n",
    "response = requests.get(base_url + \"/receive_sample_products\", json=body)\n",
    "json_products = response.json()\n",
    "df = pl.DataFrame(json_products[\"products\"])\n",
    "df"
   ]
  },
  {
   "cell_type": "markdown",
   "metadata": {},
   "source": [
    "## Receiving Products by Product ID\n",
    "\n",
    "Endpoint can be used for receiving products based on the defined `product_ids`. The local data SQLite database is used. \n",
    "\n",
    "**Note**: The script `/src/utils/sql.py` should be executed first."
   ]
  },
  {
   "cell_type": "code",
   "execution_count": null,
   "metadata": {},
   "outputs": [],
   "source": [
    "body = {\"product_ids\": [\"00001\", \"00002\", \"00008\", \"00009\"]}\n",
    "response = requests.get(base_url + \"/receive_products_by_id\", json=body)\n",
    "json_products = response.json()\n",
    "df = pl.DataFrame(json_products[\"products\"])\n",
    "df"
   ]
  }
 ],
 "metadata": {
  "kernelspec": {
   "display_name": ".venv",
   "language": "python",
   "name": "python3"
  },
  "language_info": {
   "codemirror_mode": {
    "name": "ipython",
    "version": 3
   },
   "file_extension": ".py",
   "mimetype": "text/x-python",
   "name": "python",
   "nbconvert_exporter": "python",
   "pygments_lexer": "ipython3",
   "version": "3.11.9"
  }
 },
 "nbformat": 4,
 "nbformat_minor": 2
}
