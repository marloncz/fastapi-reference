{
 "cells": [
  {
   "cell_type": "code",
   "execution_count": null,
   "metadata": {},
   "outputs": [],
   "source": [
    "import os\n",
    "\n",
    "import polars as pl\n",
    "from sqlalchemy import create_engine\n",
    "from sqlalchemy.orm import sessionmaker\n",
    "\n",
    "from fastapi_reference.utils.sql import DATABASE_URL, Product, init_sql\n",
    "\n",
    "# changing dir to root\n",
    "current_dir = os.getcwd()\n",
    "root_dir = os.path.abspath(os.path.join(current_dir, \"..\"))\n",
    "os.chdir(root_dir)"
   ]
  },
  {
   "cell_type": "markdown",
   "metadata": {},
   "source": [
    "## Setup local database"
   ]
  },
  {
   "cell_type": "code",
   "execution_count": null,
   "metadata": {},
   "outputs": [],
   "source": [
    "init_sql()"
   ]
  },
  {
   "cell_type": "markdown",
   "metadata": {},
   "source": [
    "## Receiving Data from Database"
   ]
  },
  {
   "cell_type": "code",
   "execution_count": null,
   "metadata": {},
   "outputs": [],
   "source": [
    "engine = create_engine(DATABASE_URL)\n",
    "Session = sessionmaker(bind=engine)\n",
    "session = Session()\n",
    "products = session.query(Product).all()\n",
    "product_dicts = [\n",
    "    {\n",
    "        \"id\": product.id,\n",
    "        \"product_id\": product.product_id,\n",
    "        \"product_name\": product.product_name,\n",
    "        \"product_category\": product.product_category,\n",
    "        \"product_description\": product.product_description,\n",
    "        \"valid_from\": product.valid_from,\n",
    "        \"valid_to\": product.valid_to,\n",
    "        \"price\": product.price,\n",
    "        \"stock\": product.stock,\n",
    "    }\n",
    "    for product in products\n",
    "]\n",
    "\n",
    "pl.DataFrame(product_dicts)"
   ]
  }
 ],
 "metadata": {
  "kernelspec": {
   "display_name": ".venv",
   "language": "python",
   "name": "python3"
  },
  "language_info": {
   "codemirror_mode": {
    "name": "ipython",
    "version": 3
   },
   "file_extension": ".py",
   "mimetype": "text/x-python",
   "name": "python",
   "nbconvert_exporter": "python",
   "pygments_lexer": "ipython3",
   "version": "3.11.9"
  }
 },
 "nbformat": 4,
 "nbformat_minor": 2
}
